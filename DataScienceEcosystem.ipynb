{
 "cells": [
  {
   "cell_type": "markdown",
   "id": "3cb8068a-7ccb-49bf-bf59-9e894f2ca85f",
   "metadata": {},
   "source": [
    "# Data Science Tools and Ecosystem"
   ]
  },
  {
   "cell_type": "markdown",
   "id": "6f8b6d1c-bae8-4fb7-a08d-d4e04e636629",
   "metadata": {},
   "source": [
    "## Author\n",
    "Harit Kathuria"
   ]
  },
  {
   "cell_type": "markdown",
   "id": "f611fffa-c251-476c-a82e-21ffac260aa8",
   "metadata": {},
   "source": [
    "In this notebook, Data Science Tools and Ecosystem are summarized."
   ]
  },
  {
   "cell_type": "markdown",
   "id": "caf55e82-4d81-41dc-9964-49ca254126e6",
   "metadata": {},
   "source": [
    "**Objectives:**\n",
    "<ul>\n",
    "    <li>List popular languages for Data Science</li>\n",
    "    <li>List popular libraries for Data Science</li>\n",
    "    <li>List of popular tools for Data Science in tabular form</li>\n",
    "    <li>Simple Arithmetic Expressions</li>\n",
    "</ul>"
   ]
  },
  {
   "cell_type": "markdown",
   "id": "65ffe59f-cb1c-49ce-8a4b-cdc1f36e2e74",
   "metadata": {},
   "source": [
    "<ol>Some of the popular languages that Data Scientists use are:\n",
    "    <li> Python</li>\n",
    "    <li> R</li>\n",
    "    <li> Scala</li>\n",
    "</ol>"
   ]
  },
  {
   "cell_type": "markdown",
   "id": "0c7b8d39-2918-4c44-992e-848331b8aefa",
   "metadata": {},
   "source": [
    "<ol>Some of the commonly used libraries used by Data Scientists include:\n",
    "    <li>Tensorflow</li>\n",
    "    <li>Scikit</li>\n",
    "    <li>Pandas</li>\n",
    "</ol>"
   ]
  },
  {
   "cell_type": "markdown",
   "id": "59b60990-6564-4f2f-9c2d-f2c50f54534f",
   "metadata": {},
   "source": [
    "|Data Science Tools|\n",
    "| --- |\n",
    "| Jupyter |\n",
    "| R Studio |\n",
    "| Watson Studio |"
   ]
  },
  {
   "cell_type": "markdown",
   "id": "2bc36b80-46b2-4185-8164-328eebfb644e",
   "metadata": {},
   "source": [
    "### Below are a few examples of evaluating arithmetic expressions in Python:"
   ]
  },
  {
   "cell_type": "code",
   "execution_count": 3,
   "id": "ab17316b-0f46-44ea-897d-eda3f90f2365",
   "metadata": {},
   "outputs": [
    {
     "name": "stdout",
     "output_type": "stream",
     "text": [
      "17\n"
     ]
    }
   ],
   "source": [
    "#This a simple arithmetic expression to mutiply then add integers\n",
    "print((3*4)+5)"
   ]
  },
  {
   "cell_type": "code",
   "execution_count": 4,
   "id": "8ba0d442-fbb8-490d-957c-3a41fc7b12a3",
   "metadata": {},
   "outputs": [
    {
     "name": "stdout",
     "output_type": "stream",
     "text": [
      "3.3333333333333335\n"
     ]
    }
   ],
   "source": [
    "#This will convert 200 minutes to hours by diving by 60\n",
    "print(200/60)"
   ]
  },
  {
   "cell_type": "code",
   "execution_count": null,
   "id": "2e52be0c-c52c-4c71-acc2-875ea0f25789",
   "metadata": {},
   "outputs": [],
   "source": []
  }
 ],
 "metadata": {
  "kernelspec": {
   "display_name": "Python",
   "language": "python",
   "name": "conda-env-python-py"
  },
  "language_info": {
   "codemirror_mode": {
    "name": "ipython",
    "version": 3
   },
   "file_extension": ".py",
   "mimetype": "text/x-python",
   "name": "python",
   "nbconvert_exporter": "python",
   "pygments_lexer": "ipython3",
   "version": "3.7.12"
  }
 },
 "nbformat": 4,
 "nbformat_minor": 5
}
